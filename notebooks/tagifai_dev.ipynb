{
 "cells": [
  {
   "cell_type": "markdown",
   "metadata": {
    "id": "acbetMKBt825"
   },
   "source": [
    "<div align=\"center\">\n",
    "<h1><img width=\"30\" src=\"https://madewithml.com/static/images/rounded_logo.png\">&nbsp;<a href=\"https://madewithml.com/\">Made With ML</a></h1>\n",
    "Applied ML · MLOps · Production\n",
    "<br>\n",
    "Join 30K+ developers in learning how to responsibly <a href=\"https://madewithml.com/about/\">deliver value</a> with ML.\n",
    "    <br>\n",
    "</div>\n",
    "\n",
    "<br>\n",
    "\n",
    "<div align=\"center\">\n",
    "    <a target=\"_blank\" href=\"https://madewithml.com\"><img src=\"https://img.shields.io/badge/Subscribe-40K-brightgreen\"></a>&nbsp;\n",
    "    <a target=\"_blank\" href=\"https://github.com/GokuMohandas/MadeWithML\"><img src=\"https://img.shields.io/github/stars/GokuMohandas/MadeWithML.svg?style=social&label=Star\"></a>&nbsp;\n",
    "    <a target=\"_blank\" href=\"https://www.linkedin.com/in/goku\"><img src=\"https://img.shields.io/badge/style--5eba00.svg?label=LinkedIn&logo=linkedin&style=social\"></a>&nbsp;\n",
    "    <a target=\"_blank\" href=\"https://twitter.com/GokuMohandas\"><img src=\"https://img.shields.io/twitter/follow/GokuMohandas.svg?label=Follow&style=social\"></a>\n",
    "    <br>\n",
    "    🔥&nbsp; Among the <a href=\"https://github.com/GokuMohandas/MadeWithML\" target=\"_blank\">top MLOps</a> repositories on GitHub\n",
    "</div>\n",
    "\n",
    "<br>\n",
    "<hr>"
   ]
  },
  {
   "cell_type": "markdown",
   "metadata": {
    "id": "oh-HuNfDrPg0"
   },
   "source": [
    "This notebooks contains the code for the 🔢&nbsp; Data and 📈&nbsp; Modeling lessons. After this proof of concept (PoC), we'll be moving all of this code to Python scripts and add interfacing, testing, etc. Follow the accompanying [lessons](https://madewithml.com/courses/mlops) as opposed to just running the code here to really develop an intuition for all concepts."
   ]
  },
  {
   "cell_type": "markdown",
   "metadata": {
    "id": "XTNsIiUrqoJW"
   },
   "source": [
    "<div align=\"left\">\n",
    "<a target=\"_blank\" href=\"https://madewithml.com/#mlops\"><img src=\"https://img.shields.io/badge/📖 Read-lessons-9cf\"></a>&nbsp;\n",
    "<a href=\"https://github.com/GokuMohandas/mlops-course/blob/main/notebooks/tagifai.ipynb\" role=\"button\"><img src=\"https://img.shields.io/static/v1?label=&amp;message=View%20On%20GitHub&amp;color=586069&amp;logo=github&amp;labelColor=2f363d\"></a>&nbsp;\n",
    "<a href=\"https://colab.research.google.com/github/GokuMohandas/mlops-course/blob/main/notebooks/tagifai.ipynb\"><img src=\"https://colab.research.google.com/assets/colab-badge.svg\" alt=\"Open In Colab\"></a>\n",
    "</div>"
   ]
  },
  {
   "cell_type": "markdown",
   "metadata": {
    "id": "sTfxIhHL-oxI"
   },
   "source": [
    "> We highly recommend running this notebook on [Google Colab](https://colab.research.google.com/github/GokuMohandas/mlops-course/blob/main/notebooks/tagifai.ipynb) but if you want to run locally, you'll need to install the following:\n",
    "```python\n",
    "!pip install numpy==1.19.5 pandas==1.3.5 ipywidgets==7.7.0 \\\n",
    "             matplotlib==3.5.2 seaborn==0.11.2 wordcloud==1.8.1 \\\n",
    "             scikit-learn==0.24.2 -q\n",
    "```"
   ]
  },
  {
   "cell_type": "markdown",
   "metadata": {
    "id": "lbqAqitENkSU"
   },
   "source": [
    "# 🔢&nbsp; Data"
   ]
  },
  {
   "cell_type": "markdown",
   "metadata": {
    "id": "ehvYZottsPpW"
   },
   "source": [
    "## Labeling"
   ]
  },
  {
   "cell_type": "markdown",
   "metadata": {
    "id": "xWHMj0wYHYed"
   },
   "source": [
    "For the purpose of this course, our data is already labeled, so we'll perform a basic version of ETL (extract, transform, load) to construct the labeled dataset. However, labeling can be a time intensive process so it's very important to understand all its different facets so that we can have efficient labeling workflows. Learn more about labeling in our comprehnsive [labeling lesson](https://madewithml.com/courses/mlops/labeling/). \n",
    "\n",
    "We'll start by loading our data assets that we'll be working on. \n",
    "\n",
    "- [projects.csv](https://github.com/GokuMohandas/Made-With-ML/tree/main/datasets/projects.csv): projects with id, created time, title and description.\n",
    "- [tags.csv](https://github.com/GokuMohandas/Made-With-ML/tree/main/datasets/tags.csv): labels (tag category) for the projects by id.\n",
    "\n",
    "> Recall that our [objective](https://madewithml.com/courses/mlops/design#objectives) was to classify incoming content so that the community can discover them easily. These data assets will act as the training data for our first model."
   ]
  },
  {
   "cell_type": "markdown",
   "metadata": {
    "id": "VXEli9wXr58D"
   },
   "source": [
    "**Extract**\n",
    "\n",
    "We'll start by extracting data from our sources (external CSV files). Traditionally, our data assets will be stored, versioned and updated in a database, warehouse, etc. We'll learn more about these different [data systems](https://madewithml.com/courses/mlops/data-stack/) later, but for now, we'll load our data as a stand-alone CSV file."
   ]
  },
  {
   "cell_type": "code",
   "execution_count": 1,
   "metadata": {
    "id": "VdrrsquiNkSU"
   },
   "outputs": [],
   "source": [
    "import pandas as pd"
   ]
  },
  {
   "cell_type": "code",
   "execution_count": 2,
   "metadata": {
    "colab": {
     "base_uri": "https://localhost:8080/",
     "height": 206
    },
    "id": "WB-2nm6NNkSU",
    "outputId": "bd52a4c5-68f1-4d4c-9108-24772b5c7fe3"
   },
   "outputs": [
    {
     "data": {
      "text/html": [
       "<div>\n",
       "<style scoped>\n",
       "    .dataframe tbody tr th:only-of-type {\n",
       "        vertical-align: middle;\n",
       "    }\n",
       "\n",
       "    .dataframe tbody tr th {\n",
       "        vertical-align: top;\n",
       "    }\n",
       "\n",
       "    .dataframe thead th {\n",
       "        text-align: right;\n",
       "    }\n",
       "</style>\n",
       "<table border=\"1\" class=\"dataframe\">\n",
       "  <thead>\n",
       "    <tr style=\"text-align: right;\">\n",
       "      <th></th>\n",
       "      <th>id</th>\n",
       "      <th>created_on</th>\n",
       "      <th>title</th>\n",
       "      <th>description</th>\n",
       "    </tr>\n",
       "  </thead>\n",
       "  <tbody>\n",
       "    <tr>\n",
       "      <th>0</th>\n",
       "      <td>6</td>\n",
       "      <td>2020-02-20 06:43:18</td>\n",
       "      <td>Comparison between YOLO and RCNN on real world...</td>\n",
       "      <td>Bringing theory to experiment is cool. We can ...</td>\n",
       "    </tr>\n",
       "    <tr>\n",
       "      <th>1</th>\n",
       "      <td>7</td>\n",
       "      <td>2020-02-20 06:47:21</td>\n",
       "      <td>Show, Infer &amp; Tell: Contextual Inference for C...</td>\n",
       "      <td>The beauty of the work lies in the way it arch...</td>\n",
       "    </tr>\n",
       "    <tr>\n",
       "      <th>2</th>\n",
       "      <td>9</td>\n",
       "      <td>2020-02-24 16:24:45</td>\n",
       "      <td>Awesome Graph Classification</td>\n",
       "      <td>A collection of important graph embedding, cla...</td>\n",
       "    </tr>\n",
       "    <tr>\n",
       "      <th>3</th>\n",
       "      <td>15</td>\n",
       "      <td>2020-02-28 23:55:26</td>\n",
       "      <td>Awesome Monte Carlo Tree Search</td>\n",
       "      <td>A curated list of Monte Carlo tree search pape...</td>\n",
       "    </tr>\n",
       "    <tr>\n",
       "      <th>4</th>\n",
       "      <td>19</td>\n",
       "      <td>2020-03-03 13:54:31</td>\n",
       "      <td>Diffusion to Vector</td>\n",
       "      <td>Reference implementation of Diffusion2Vec (Com...</td>\n",
       "    </tr>\n",
       "  </tbody>\n",
       "</table>\n",
       "</div>"
      ],
      "text/plain": [
       "   id           created_on                                              title  \\\n",
       "0   6  2020-02-20 06:43:18  Comparison between YOLO and RCNN on real world...   \n",
       "1   7  2020-02-20 06:47:21  Show, Infer & Tell: Contextual Inference for C...   \n",
       "2   9  2020-02-24 16:24:45                       Awesome Graph Classification   \n",
       "3  15  2020-02-28 23:55:26                    Awesome Monte Carlo Tree Search   \n",
       "4  19  2020-03-03 13:54:31                                Diffusion to Vector   \n",
       "\n",
       "                                         description  \n",
       "0  Bringing theory to experiment is cool. We can ...  \n",
       "1  The beauty of the work lies in the way it arch...  \n",
       "2  A collection of important graph embedding, cla...  \n",
       "3  A curated list of Monte Carlo tree search pape...  \n",
       "4  Reference implementation of Diffusion2Vec (Com...  "
      ]
     },
     "execution_count": 2,
     "metadata": {},
     "output_type": "execute_result"
    }
   ],
   "source": [
    "# Extract projects\n",
    "PROJECTS_URL = \"https://raw.githubusercontent.com/GokuMohandas/Made-With-ML/main/datasets/projects.csv\"\n",
    "projects = pd.read_csv(PROJECTS_URL)\n",
    "projects.head(5)"
   ]
  },
  {
   "cell_type": "markdown",
   "metadata": {
    "id": "6oqbgBSmPseX"
   },
   "source": [
    "We'll also load the labels (tag category) for our projects."
   ]
  },
  {
   "cell_type": "code",
   "execution_count": 3,
   "metadata": {
    "colab": {
     "base_uri": "https://localhost:8080/",
     "height": 206
    },
    "id": "_D5xE4efHJKU",
    "outputId": "19512f4e-ae08-4dc0-bdef-3e8bc3f820fd"
   },
   "outputs": [
    {
     "data": {
      "text/html": [
       "<div>\n",
       "<style scoped>\n",
       "    .dataframe tbody tr th:only-of-type {\n",
       "        vertical-align: middle;\n",
       "    }\n",
       "\n",
       "    .dataframe tbody tr th {\n",
       "        vertical-align: top;\n",
       "    }\n",
       "\n",
       "    .dataframe thead th {\n",
       "        text-align: right;\n",
       "    }\n",
       "</style>\n",
       "<table border=\"1\" class=\"dataframe\">\n",
       "  <thead>\n",
       "    <tr style=\"text-align: right;\">\n",
       "      <th></th>\n",
       "      <th>id</th>\n",
       "      <th>tag</th>\n",
       "    </tr>\n",
       "  </thead>\n",
       "  <tbody>\n",
       "    <tr>\n",
       "      <th>0</th>\n",
       "      <td>6</td>\n",
       "      <td>computer-vision</td>\n",
       "    </tr>\n",
       "    <tr>\n",
       "      <th>1</th>\n",
       "      <td>7</td>\n",
       "      <td>computer-vision</td>\n",
       "    </tr>\n",
       "    <tr>\n",
       "      <th>2</th>\n",
       "      <td>9</td>\n",
       "      <td>graph-learning</td>\n",
       "    </tr>\n",
       "    <tr>\n",
       "      <th>3</th>\n",
       "      <td>15</td>\n",
       "      <td>reinforcement-learning</td>\n",
       "    </tr>\n",
       "    <tr>\n",
       "      <th>4</th>\n",
       "      <td>19</td>\n",
       "      <td>graph-learning</td>\n",
       "    </tr>\n",
       "  </tbody>\n",
       "</table>\n",
       "</div>"
      ],
      "text/plain": [
       "   id                     tag\n",
       "0   6         computer-vision\n",
       "1   7         computer-vision\n",
       "2   9          graph-learning\n",
       "3  15  reinforcement-learning\n",
       "4  19          graph-learning"
      ]
     },
     "execution_count": 3,
     "metadata": {},
     "output_type": "execute_result"
    }
   ],
   "source": [
    "# Extract tags\n",
    "TAGS_URL = \"https://raw.githubusercontent.com/GokuMohandas/Made-With-ML/main/datasets/tags.csv\"\n",
    "tags = pd.read_csv(TAGS_URL)\n",
    "tags.head(5)"
   ]
  },
  {
   "cell_type": "markdown",
   "metadata": {
    "id": "sDQSvqC2DGwQ"
   },
   "source": [
    "**Transform**\n",
    "\n",
    "Apply basic transformations to create our labeled dataset."
   ]
  },
  {
   "cell_type": "code",
   "execution_count": 4,
   "metadata": {
    "colab": {
     "base_uri": "https://localhost:8080/",
     "height": 337
    },
    "id": "v_TXbrshDPeQ",
    "outputId": "25304908-d923-4afa-d17d-9369adbb4250"
   },
   "outputs": [
    {
     "data": {
      "text/html": [
       "<div>\n",
       "<style scoped>\n",
       "    .dataframe tbody tr th:only-of-type {\n",
       "        vertical-align: middle;\n",
       "    }\n",
       "\n",
       "    .dataframe tbody tr th {\n",
       "        vertical-align: top;\n",
       "    }\n",
       "\n",
       "    .dataframe thead th {\n",
       "        text-align: right;\n",
       "    }\n",
       "</style>\n",
       "<table border=\"1\" class=\"dataframe\">\n",
       "  <thead>\n",
       "    <tr style=\"text-align: right;\">\n",
       "      <th></th>\n",
       "      <th>id</th>\n",
       "      <th>created_on</th>\n",
       "      <th>title</th>\n",
       "      <th>description</th>\n",
       "      <th>tag</th>\n",
       "    </tr>\n",
       "  </thead>\n",
       "  <tbody>\n",
       "    <tr>\n",
       "      <th>0</th>\n",
       "      <td>6</td>\n",
       "      <td>2020-02-20 06:43:18</td>\n",
       "      <td>Comparison between YOLO and RCNN on real world...</td>\n",
       "      <td>Bringing theory to experiment is cool. We can ...</td>\n",
       "      <td>computer-vision</td>\n",
       "    </tr>\n",
       "    <tr>\n",
       "      <th>1</th>\n",
       "      <td>7</td>\n",
       "      <td>2020-02-20 06:47:21</td>\n",
       "      <td>Show, Infer &amp; Tell: Contextual Inference for C...</td>\n",
       "      <td>The beauty of the work lies in the way it arch...</td>\n",
       "      <td>computer-vision</td>\n",
       "    </tr>\n",
       "    <tr>\n",
       "      <th>2</th>\n",
       "      <td>9</td>\n",
       "      <td>2020-02-24 16:24:45</td>\n",
       "      <td>Awesome Graph Classification</td>\n",
       "      <td>A collection of important graph embedding, cla...</td>\n",
       "      <td>graph-learning</td>\n",
       "    </tr>\n",
       "    <tr>\n",
       "      <th>3</th>\n",
       "      <td>15</td>\n",
       "      <td>2020-02-28 23:55:26</td>\n",
       "      <td>Awesome Monte Carlo Tree Search</td>\n",
       "      <td>A curated list of Monte Carlo tree search pape...</td>\n",
       "      <td>reinforcement-learning</td>\n",
       "    </tr>\n",
       "    <tr>\n",
       "      <th>4</th>\n",
       "      <td>19</td>\n",
       "      <td>2020-03-03 13:54:31</td>\n",
       "      <td>Diffusion to Vector</td>\n",
       "      <td>Reference implementation of Diffusion2Vec (Com...</td>\n",
       "      <td>graph-learning</td>\n",
       "    </tr>\n",
       "  </tbody>\n",
       "</table>\n",
       "</div>"
      ],
      "text/plain": [
       "   id           created_on                                              title  \\\n",
       "0   6  2020-02-20 06:43:18  Comparison between YOLO and RCNN on real world...   \n",
       "1   7  2020-02-20 06:47:21  Show, Infer & Tell: Contextual Inference for C...   \n",
       "2   9  2020-02-24 16:24:45                       Awesome Graph Classification   \n",
       "3  15  2020-02-28 23:55:26                    Awesome Monte Carlo Tree Search   \n",
       "4  19  2020-03-03 13:54:31                                Diffusion to Vector   \n",
       "\n",
       "                                         description                     tag  \n",
       "0  Bringing theory to experiment is cool. We can ...         computer-vision  \n",
       "1  The beauty of the work lies in the way it arch...         computer-vision  \n",
       "2  A collection of important graph embedding, cla...          graph-learning  \n",
       "3  A curated list of Monte Carlo tree search pape...  reinforcement-learning  \n",
       "4  Reference implementation of Diffusion2Vec (Com...          graph-learning  "
      ]
     },
     "execution_count": 4,
     "metadata": {},
     "output_type": "execute_result"
    }
   ],
   "source": [
    "# Join projects and tags\n",
    "df = pd.merge(projects, tags, on=\"id\")\n",
    "df.head()"
   ]
  },
  {
   "cell_type": "code",
   "execution_count": 5,
   "metadata": {
    "id": "sq0Wj0YlHJWj"
   },
   "outputs": [],
   "source": [
    "# Remove projects with no tag\n",
    "df = df[df.tag.notnull()]"
   ]
  },
  {
   "cell_type": "markdown",
   "metadata": {
    "id": "ri-j4fd-s-He"
   },
   "source": [
    "**Load**\n",
    "\n",
    "Finally, we'll load our transformed data locally so that we can use it for our machine learning application."
   ]
  },
  {
   "cell_type": "code",
   "execution_count": 6,
   "metadata": {
    "id": "2c3oNd0gtKDu"
   },
   "outputs": [],
   "source": [
    "# Save locally\n",
    "df.to_csv(\"../data/labeled_projects.csv\", index=False)"
   ]
  },
  {
   "cell_type": "markdown",
   "metadata": {
    "id": "WuCrsbxbNkSV"
   },
   "source": [
    "## Exploration (EDA)"
   ]
  },
  {
   "cell_type": "markdown",
   "metadata": {
    "id": "eOJ3nlEgnSTJ"
   },
   "source": [
    "Exploratory data analysis to understand the signals and nuances of our dataset. It's a cyclical process that can be done at various points of our development process (before/after labeling, preprocessing, etc. depending on how well the problem is defined. For example, if we're unsure how to label or preprocess our data, we can use EDA to figure it out."
   ]
  },
  {
   "cell_type": "code",
   "execution_count": 7,
   "metadata": {
    "id": "tHdQmqTBNkSV"
   },
   "outputs": [],
   "source": [
    "from collections import Counter\n",
    "import ipywidgets as widgets\n",
    "import matplotlib.pyplot as plt\n",
    "import seaborn as sns\n",
    "import warnings\n",
    "from wordcloud import WordCloud, STOPWORDS\n",
    "sns.set_theme()\n",
    "warnings.filterwarnings(\"ignore\")"
   ]
  },
  {
   "cell_type": "code",
   "execution_count": 8,
   "metadata": {
    "colab": {
     "base_uri": "https://localhost:8080/",
     "height": 445
    },
    "id": "5JuX5Ju-NkSV",
    "outputId": "e77a72ab-5037-494b-c118-08c09aa7b061"
   },
   "outputs": [
    {
     "data": {
      "image/png": "[encoded data removed]",
      "text/plain": [
       "<Figure size 720x216 with 1 Axes>"
      ]
     },
     "metadata": {},
     "output_type": "display_data"
    }
   ],
   "source": [
    "# Distribution of tags\n",
    "tags, tag_counts = zip(*Counter(df.tag.values).most_common())\n",
    "plt.figure(figsize=(10, 3))\n",
    "ax = sns.barplot(list(tags), list(tag_counts))\n",
    "plt.title(\"Tag distribution\", fontsize=20)\n",
    "plt.xlabel(\"Tag\", fontsize=16)\n",
    "ax.set_xticklabels(tags, rotation=90, fontsize=14)\n",
    "plt.ylabel(\"Number of projects\", fontsize=16)\n",
    "plt.show()"
   ]
  },
  {
   "cell_type": "code",
   "execution_count": 9,
   "metadata": {
    "colab": {
     "base_uri": "https://localhost:8080/"
    },
    "id": "Gl-E8d2HaCsx",
    "outputId": "2800e272-2233-402d-a926-f992663edfcf"
   },
   "outputs": [
    {
     "data": {
      "text/plain": [
       "[('natural-language-processing', 388),\n",
       " ('computer-vision', 356),\n",
       " ('mlops', 79),\n",
       " ('reinforcement-learning', 56),\n",
       " ('graph-learning', 45),\n",
       " ('time-series', 31)]"
      ]
     },
     "execution_count": 9,
     "metadata": {},
     "output_type": "execute_result"
    }
   ],
   "source": [
    "# Most common tags\n",
    "tags = Counter(df.tag.values)\n",
    "tags.most_common()"
   ]
  },
  {
   "cell_type": "markdown",
   "metadata": {
    "id": "pfjVstecaFC5"
   },
   "source": [
    "> We'll address the [data imbalance](https://madewithml.com/courses/mlops/baselines#data-imbalance) after splitting into our train split and prior to training our model."
   ]
  },
  {
   "cell_type": "code",
   "execution_count": 10,
   "metadata": {
    "colab": {
     "base_uri": "https://localhost:8080/",
     "height": 335,
     "referenced_widgets": [
      "68d2d514d85b40629115f4f2ca3e3406",
      "c6d87d95cca841aba71fb8009a5228b3",
      "9969312a5d134e699d0537eb21101bd1",
      "11fddde0ce614d37b98e4e8b254c5900",
      "be8a0a0f1f624a64bf5d75f59eb47948",
      "62236c22596e4dbd890124673edc88f7",
      "cc6c23f00ab7435f931783fddaa1f895"
     ]
    },
    "id": "NgMGuIQrNkSV",
    "outputId": "3b91ac7c-5a70-4c1e-c591-94c9ac3e9f3d"
   },
   "outputs": [
    {
     "data": {
      "application/vnd.jupyter.widget-view+json": {
       "model_id": "dc4e368e2f7f4e1d83551f6b1dc35884",
       "version_major": 2,
       "version_minor": 0
      },
      "text/plain": [
       "interactive(children=(Dropdown(description='tag', index=3, options=('computer-vision', 'graph-learning', 'rein…"
      ]
     },
     "metadata": {},
     "output_type": "display_data"
    }
   ],
   "source": [
    "# Most frequent tokens for each tag\n",
    "@widgets.interact(tag=list(tags))\n",
    "def display_word_cloud(tag=\"natural-language-processing\"):\n",
    "    # Plot word clouds top top tags\n",
    "    plt.figure(figsize=(15, 5))\n",
    "    subset = df[df.tag==tag]\n",
    "    text = subset.title.values\n",
    "    cloud = WordCloud(\n",
    "        stopwords=STOPWORDS, background_color=\"black\", collocations=False,\n",
    "        width=500, height=300).generate(\" \".join(text))\n",
    "    plt.axis(\"off\")\n",
    "    plt.imshow(cloud)"
   ]
  },
  {
   "cell_type": "markdown",
   "metadata": {
    "id": "b8ua3MFhrOaX"
   },
   "source": [
    "Looks like the `title` text feature has some good signal for the respective classes and matches our intuition. We can repeat this for the `description` text feature as well. This information will become useful when we decide how to use our features for modeling."
   ]
  },
  {
   "cell_type": "markdown",
   "metadata": {
    "id": "HFifXKl_eKsN"
   },
   "source": [
    "## Preprocessing"
   ]
  },
  {
   "cell_type": "markdown",
   "metadata": {
    "id": "RxAZ1AmteRaD"
   },
   "source": [
    "Preprocessing the data via feature engineering, filtering and cleaning. Certain preprocessing steps are global (don't depend on our dataset, ex. lower casing text, removing stop words, etc.) and others are local (constructs are learned only from the training split, ex. vocabulary, standardization, etc.). For the local, dataset-dependent preprocessing steps, we want to ensure that we [split](https://madewithml.com/courses/mlops/splitting) the data first before preprocessing to avoid data leaks."
   ]
  },
  {
   "cell_type": "markdown",
   "metadata": {
    "id": "6VgTwEQboTGc"
   },
   "source": [
    "### Feature engineering"
   ]
  },
  {
   "cell_type": "markdown",
   "metadata": {
    "id": "U_001GPyMZsC"
   },
   "source": [
    "We can combine existing input features to create new meaningful signal (helping the model learn). "
   ]
  },
  {
   "cell_type": "code",
   "execution_count": 11,
   "metadata": {
    "id": "3x1ldAFQNkSU"
   },
   "outputs": [],
   "source": [
    "# Feature engineering\n",
    "df[\"text\"] = df.title + \" \" + df.description"
   ]
  },
  {
   "cell_type": "markdown",
   "metadata": {
    "id": "vNsRidGHoWMs"
   },
   "source": [
    "### Cleaning"
   ]
  },
  {
   "cell_type": "markdown",
   "metadata": {},
   "source": [
    "Since we're dealing with text data, we can apply some of the commoon text processing steps:"
   ]
  },
  {
   "cell_type": "code",
   "execution_count": 12,
   "metadata": {},
   "outputs": [],
   "source": [
    "!pip install nltk==3.7 -q"
   ]
  },
  {
   "cell_type": "code",
   "execution_count": 13,
   "metadata": {},
   "outputs": [],
   "source": [
    "import nltk\n",
    "from nltk.corpus import stopwords\n",
    "from nltk.stem import PorterStemmer, SnowballStemmer\n",
    "import re"
   ]
  },
  {
   "cell_type": "code",
   "execution_count": 14,
   "metadata": {},
   "outputs": [
    {
     "name": "stderr",
     "output_type": "stream",
     "text": [
      "[nltk_data] Downloading package stopwords to\n",
      "[nltk_data]     /Users/kristofferclausen/nltk_data...\n",
      "[nltk_data]   Package stopwords is already up-to-date!\n"
     ]
    }
   ],
   "source": [
    "nltk.download('stopwords')\n",
    "STOPWORDS = stopwords.words(\"english\")\n",
    "porterStemmer = PorterStemmer()\n",
    "snowBallStemmer = SnowballStemmer(\"english\")"
   ]
  },
  {
   "cell_type": "code",
   "execution_count": 15,
   "metadata": {},
   "outputs": [],
   "source": [
    "def clean_text(text: str, lower=True, stemmer=False, stopwords=STOPWORDS):\n",
    "    \"\"\"CLean the raw text \"\"\"\n",
    "    # Lower\n",
    "    if lower:\n",
    "        text = text.lower()\n",
    "    \n",
    "    # Remove stopwords\n",
    "    if len(stopwords):\n",
    "        pattern = re.compile(r'\\b(' + r\"|\".join(stopwords) + r\")\\b\\s*\")\n",
    "        text = pattern.sub('', text)\n",
    "        \n",
    "    # Spacing and filters\n",
    "    text = re.sub(\n",
    "        r\"([!\\\"'#$%&()*\\+,-./:;<=>?@\\\\\\[\\]^_`{|}~])\", r\" \\1 \", text\n",
    "    )  # add spacing between objects to be filtered\n",
    "    text = re.sub(\"[^A-Za-z0-9]+\", \" \", text)  # remove non alphanumeric chars\n",
    "    text = re.sub(\" +\", \" \", text)  # remove multiple spaces\n",
    "    text = text.strip()  # strip white space at the ends\n",
    "    \n",
    "    # Remove links\n",
    "    text = re.sub(r\"http\\S+\", \"\", text)\n",
    "\n",
    "    # Stemming\n",
    "    if stemmer:\n",
    "        text = \" \".join([stemmer.stem(word) for word in text.split(\" \")])\n",
    "\n",
    "    return text"
   ]
  },
  {
   "cell_type": "code",
   "execution_count": 16,
   "metadata": {},
   "outputs": [
    {
     "name": "stdout",
     "output_type": "stream",
     "text": [
      "Comparison between YOLO and RCNN on real world videos Bringing theory to experiment is cool. We can easily train models in colab and find the results in minutes.\n",
      "comparison yolo rcnn real world video bring theori experi cool easili train model colab find result minut\n"
     ]
    }
   ],
   "source": [
    "# Apply text cleaning function to data\n",
    "original_df = df.copy()\n",
    "df.text = df.text.apply(clean_text, lower=True, stemmer=snowBallStemmer)\n",
    "print(f\"{original_df.text.values[0]}\\n{df.text.values[0]}\")"
   ]
  },
  {
   "cell_type": "code",
   "execution_count": 17,
   "metadata": {},
   "outputs": [
    {
     "data": {
      "application/vnd.jupyter.widget-view+json": {
       "model_id": "f74602fe84d3461694b3d172fb14cdff",
       "version_major": 2,
       "version_minor": 0
      },
      "text/plain": [
       "interactive(children=(Checkbox(value=True, description='lower'), Dropdown(description='stemmer', options=(<Por…"
      ]
     },
     "metadata": {},
     "output_type": "display_data"
    }
   ],
   "source": [
    "# Toggle preprocessing parameters\n",
    "@widgets.interact(lower=True, stemmer=[porterStemmer, snowBallStemmer])\n",
    "def display_cleaned_text(lower, stemmer):\n",
    "    text = original_df.text.values[0]\n",
    "    cleaned_text = clean_text(text=text, lower=lower, stemmer=stemmer)\n",
    "    print(cleaned_text)"
   ]
  },
  {
   "cell_type": "code",
   "execution_count": null,
   "metadata": {},
   "outputs": [],
   "source": []
  },
  {
   "cell_type": "code",
   "execution_count": 18,
   "metadata": {},
   "outputs": [
    {
     "data": {
      "text/plain": [
       "<nltk.stem.snowball.SnowballStemmer at 0x14c52be50>"
      ]
     },
     "execution_count": 18,
     "metadata": {},
     "output_type": "execute_result"
    }
   ],
   "source": [
    "snowBallStemmer"
   ]
  },
  {
   "cell_type": "code",
   "execution_count": null,
   "metadata": {},
   "outputs": [],
   "source": []
  }
 ],
 "metadata": {
  "colab": {
   "collapsed_sections": [],
   "name": "tagifai.ipynb",
   "provenance": [],
   "toc_visible": true
  },
  "interpreter": {
   "hash": "83775aec2432b80a3e3a7273058d2ca65ee45d2724db98f63d82dc93e779d1d6"
  },
  "kernelspec": {
   "display_name": "Python 3 (ipykernel)",
   "language": "python",
   "name": "python3"
  },
  "language_info": {
   "codemirror_mode": {
    "name": "ipython",
    "version": 3
   },
   "file_extension": ".py",
   "mimetype": "text/x-python",
   "name": "python",
   "nbconvert_exporter": "python",
   "pygments_lexer": "ipython3",
   "version": "3.9.10"
  },
  "toc-autonumbering": false,
  "toc-showcode": false,
  "toc-showmarkdowntxt": false,
  "toc-showtags": false,
  "widgets": {
   "application/vnd.jupyter.widget-state+json": {
    "071759e2244d4f72bd615e63d86626fd": {
     "model_module": "@jupyter-widgets/controls",
     "model_module_version": "1.5.0",
     "model_name": "FloatProgressModel",
     "state": {
      "_dom_classes": [],
      "_model_module": "@jupyter-widgets/controls",
      "_model_module_version": "1.5.0",
      "_model_name": "FloatProgressModel",
      "_view_count": null,
      "_view_module": "@jupyter-widgets/controls",
      "_view_module_version": "1.5.0",
      "_view_name": "ProgressView",
      "bar_style": "success",
      "description": "",
      "description_tooltip": null,
      "layout": "IPY_MODEL_57eb6d05395344a0aebc6274e6d09af5",
      "max": 442,
      "min": 0,
      "orientation": "horizontal",
      "style": "IPY_MODEL_44f92639795f4c87827e47ce857d26e4",
      "value": 442
     }
    },
    "0ad6157dc31841cb801e6b2ddb7ce22f": {
     "model_module": "@jupyter-widgets/base",
     "model_module_version": "1.2.0",
     "model_name": "LayoutModel",
     "state": {
      "_model_module": "@jupyter-widgets/base",
      "_model_module_version": "1.2.0",
      "_model_name": "LayoutModel",
      "_view_count": null,
      "_view_module": "@jupyter-widgets/base",
      "_view_module_version": "1.2.0",
      "_view_name": "LayoutView",
      "align_content": null,
      "align_items": null,
      "align_self": null,
      "border": null,
      "bottom": null,
      "display": null,
      "flex": null,
      "flex_flow": null,
      "grid_area": null,
      "grid_auto_columns": null,
      "grid_auto_flow": null,
      "grid_auto_rows": null,
      "grid_column": null,
      "grid_gap": null,
      "grid_row": null,
      "grid_template_areas": null,
      "grid_template_columns": null,
      "grid_template_rows": null,
      "height": null,
      "justify_content": null,
      "justify_items": null,
      "left": null,
      "margin": null,
      "max_height": null,
      "max_width": null,
      "min_height": null,
      "min_width": null,
      "object_fit": null,
      "object_position": null,
      "order": null,
      "overflow": null,
      "overflow_x": null,
      "overflow_y": null,
      "padding": null,
      "right": null,
      "top": null,
      "visibility": null,
      "width": null
     }
    },
    "0b527166ad494985a5c8725e06231622": {
     "model_module": "@jupyter-widgets/base",
     "model_module_version": "1.2.0",
     "model_name": "LayoutModel",
     "state": {
      "_model_module": "@jupyter-widgets/base",
      "_model_module_version": "1.2.0",
      "_model_name": "LayoutModel",
      "_view_count": null,
      "_view_module": "@jupyter-widgets/base",
      "_view_module_version": "1.2.0",
      "_view_name": "LayoutView",
      "align_content": null,
      "align_items": null,
      "align_self": null,
      "border": null,
      "bottom": null,
      "display": null,
      "flex": null,
      "flex_flow": null,
      "grid_area": null,
      "grid_auto_columns": null,
      "grid_auto_flow": null,
      "grid_auto_rows": null,
      "grid_column": null,
      "grid_gap": null,
      "grid_row": null,
      "grid_template_areas": null,
      "grid_template_columns": null,
      "grid_template_rows": null,
      "height": null,
      "justify_content": null,
      "justify_items": null,
      "left": null,
      "margin": null,
      "max_height": null,
      "max_width": null,
      "min_height": null,
      "min_width": null,
      "object_fit": null,
      "object_position": null,
      "order": null,
      "overflow": null,
      "overflow_x": null,
      "overflow_y": null,
      "padding": null,
      "right": null,
      "top": null,
      "visibility": null,
      "width": null
     }
    },
    "11fddde0ce614d37b98e4e8b254c5900": {
     "model_module": "@jupyter-widgets/base",
     "model_module_version": "1.2.0",
     "model_name": "LayoutModel",
     "state": {
      "_model_module": "@jupyter-widgets/base",
      "_model_module_version": "1.2.0",
      "_model_name": "LayoutModel",
      "_view_count": null,
      "_view_module": "@jupyter-widgets/base",
      "_view_module_version": "1.2.0",
      "_view_name": "LayoutView",
      "align_content": null,
      "align_items": null,
      "align_self": null,
      "border": null,
      "bottom": null,
      "display": null,
      "flex": null,
      "flex_flow": null,
      "grid_area": null,
      "grid_auto_columns": null,
      "grid_auto_flow": null,
      "grid_auto_rows": null,
      "grid_column": null,
      "grid_gap": null,
      "grid_row": null,
      "grid_template_areas": null,
      "grid_template_columns": null,
      "grid_template_rows": null,
      "height": null,
      "justify_content": null,
      "justify_items": null,
      "left": null,
      "margin": null,
      "max_height": null,
      "max_width": null,
      "min_height": null,
      "min_width": null,
      "object_fit": null,
      "object_position": null,
      "order": null,
      "overflow": null,
      "overflow_x": null,
      "overflow_y": null,
      "padding": null,
      "right": null,
      "top": null,
      "visibility": null,
      "width": null
     }
    },
    "15a5bd9bd1f24afdbc05070cd4320ad5": {
     "model_module": "@jupyter-widgets/output",
     "model_module_version": "1.0.0",
     "model_name": "OutputModel",
     "state": {
      "_dom_classes": [],
      "_model_module": "@jupyter-widgets/output",
      "_model_module_version": "1.0.0",
      "_model_name": "OutputModel",
      "_view_count": null,
      "_view_module": "@jupyter-widgets/output",
      "_view_module_version": "1.0.0",
      "_view_name": "OutputView",
      "layout": "IPY_MODEL_c59f8bc64cf14c238904d1b17ecfc5ca",
      "msg_id": "",
      "outputs": [
       {
        "name": "stdout",
        "output_type": "stream",
        "text": [
         "{\n",
         "  \"precision\": 1.0,\n",
         "  \"recall\": 0.75,\n",
         "  \"f1\": 0.8571428571428571,\n",
         "  \"num_samples\": 12.0\n",
         "}\n",
         "\n",
         "=== True positives ===\n",
         "  pytest pytest framework makes easy write small tests yet scales support complex functional testing\n",
         "    true: mlops\n",
         "    pred: mlops\n",
         "\n",
         "  test machine learning code systems minimal examples testing machine learning correct implementation expected learned behaviour model performance\n",
         "    true: mlops\n",
         "    pred: mlops\n",
         "\n",
         "  continuous machine learning cml cml helps organize mlops infrastructure top traditional software engineering stack instead creating separate ai platforms\n",
         "    true: mlops\n",
         "    pred: mlops\n",
         "\n",
         "\n",
         "=== False negatives ===\n",
         "  hidden technical debt machine learning systems using software engineering framework technical debt find common incur massive ongoing maintenance costs real world ml systems\n",
         "    true: mlops\n",
         "    pred: other\n",
         "\n",
         "  docker help become effective data scientist look docker perspective data scientist\n",
         "    true: mlops\n",
         "    pred: other\n",
         "\n",
         "  neptune ai lightweight experiment management tool fits workflow\n",
         "    true: mlops\n",
         "    pred: other\n",
         "\n"
        ]
       }
      ]
     }
    },
    "163a1a07e6c74e8e94cb5eebb06547d6": {
     "model_module": "@jupyter-widgets/controls",
     "model_module_version": "1.5.0",
     "model_name": "HTMLModel",
     "state": {
      "_dom_classes": [],
      "_model_module": "@jupyter-widgets/controls",
      "_model_module_version": "1.5.0",
      "_model_name": "HTMLModel",
      "_view_count": null,
      "_view_module": "@jupyter-widgets/controls",
      "_view_module_version": "1.5.0",
      "_view_name": "HTMLView",
      "description": "",
      "description_tooltip": null,
      "layout": "IPY_MODEL_704ae0162c4348099d89f7b6a3fd193f",
      "placeholder": "​",
      "style": "IPY_MODEL_e0a28ea4b0124251a202b96941cba3e1",
      "value": " 442/442 [00:00&lt;00:00, 4.18kB/s]"
     }
    },
    "1a3375fbfb814950865d819d48971d65": {
     "model_module": "@jupyter-widgets/base",
     "model_module_version": "1.2.0",
     "model_name": "LayoutModel",
     "state": {
      "_model_module": "@jupyter-widgets/base",
      "_model_module_version": "1.2.0",
      "_model_name": "LayoutModel",
      "_view_count": null,
      "_view_module": "@jupyter-widgets/base",
      "_view_module_version": "1.2.0",
      "_view_name": "LayoutView",
      "align_content": null,
      "align_items": null,
      "align_self": null,
      "border": null,
      "bottom": null,
      "display": null,
      "flex": null,
      "flex_flow": null,
      "grid_area": null,
      "grid_auto_columns": null,
      "grid_auto_flow": null,
      "grid_auto_rows": null,
      "grid_column": null,
      "grid_gap": null,
      "grid_row": null,
      "grid_template_areas": null,
      "grid_template_columns": null,
      "grid_template_rows": null,
      "height": null,
      "justify_content": null,
      "justify_items": null,
      "left": null,
      "margin": null,
      "max_height": null,
      "max_width": null,
      "min_height": null,
      "min_width": null,
      "object_fit": null,
      "object_position": null,
      "order": null,
      "overflow": null,
      "overflow_x": null,
      "overflow_y": null,
      "padding": null,
      "right": null,
      "top": null,
      "visibility": null,
      "width": null
     }
    },
    "1ca102010e264c1d897dddb45badee37": {
     "model_module": "@jupyter-widgets/controls",
     "model_module_version": "1.5.0",
     "model_name": "CheckboxModel",
     "state": {
      "_dom_classes": [],
      "_model_module": "@jupyter-widgets/controls",
      "_model_module_version": "1.5.0",
      "_model_name": "CheckboxModel",
      "_view_count": null,
      "_view_module": "@jupyter-widgets/controls",
      "_view_module_version": "1.5.0",
      "_view_name": "CheckboxView",
      "description": "stem",
      "description_tooltip": null,
      "disabled": false,
      "indent": true,
      "layout": "IPY_MODEL_82fe0d77514a4befb291b9158a955c44",
      "style": "IPY_MODEL_5524e89a63404335b45b19b7eaa0fe4e",
      "value": false
     }
    },
    "1db3d2c854134bcaac2e264805ee3146": {
     "model_module": "@jupyter-widgets/controls",
     "model_module_version": "1.5.0",
     "model_name": "DescriptionStyleModel",
     "state": {
      "_model_module": "@jupyter-widgets/controls",
      "_model_module_version": "1.5.0",
      "_model_name": "DescriptionStyleModel",
      "_view_count": null,
      "_view_module": "@jupyter-widgets/base",
      "_view_module_version": "1.2.0",
      "_view_name": "StyleView",
      "description_width": ""
     }
    },
    "1f675b6921ca47f5a1a0b2bd0b567cf4": {
     "model_module": "@jupyter-widgets/controls",
     "model_module_version": "1.5.0",
     "model_name": "SliderStyleModel",
     "state": {
      "_model_module": "@jupyter-widgets/controls",
      "_model_module_version": "1.5.0",
      "_model_name": "SliderStyleModel",
      "_view_count": null,
      "_view_module": "@jupyter-widgets/base",
      "_view_module_version": "1.2.0",
      "_view_name": "StyleView",
      "description_width": "",
      "handle_color": null
     }
    },
    "21679cda152446509ccb35476eed9470": {
     "model_module": "@jupyter-widgets/controls",
     "model_module_version": "1.5.0",
     "model_name": "DescriptionStyleModel",
     "state": {
      "_model_module": "@jupyter-widgets/controls",
      "_model_module_version": "1.5.0",
      "_model_name": "DescriptionStyleModel",
      "_view_count": null,
      "_view_module": "@jupyter-widgets/base",
      "_view_module_version": "1.2.0",
      "_view_name": "StyleView",
      "description_width": ""
     }
    },
    "2bb808e56f884fb7aa98f26f30b5b656": {
     "model_module": "@jupyter-widgets/controls",
     "model_module_version": "1.5.0",
     "model_name": "DescriptionStyleModel",
     "state": {
      "_model_module": "@jupyter-widgets/controls",
      "_model_module_version": "1.5.0",
      "_model_name": "DescriptionStyleModel",
      "_view_count": null,
      "_view_module": "@jupyter-widgets/base",
      "_view_module_version": "1.2.0",
      "_view_name": "StyleView",
      "description_width": ""
     }
    },
    "2e9bf8da357f4023aa689b9cfe1cb538": {
     "model_module": "@jupyter-widgets/controls",
     "model_module_version": "1.5.0",
     "model_name": "VBoxModel",
     "state": {
      "_dom_classes": [
       "widget-interact"
      ],
      "_model_module": "@jupyter-widgets/controls",
      "_model_module_version": "1.5.0",
      "_model_name": "VBoxModel",
      "_view_count": null,
      "_view_module": "@jupyter-widgets/controls",
      "_view_module_version": "1.5.0",
      "_view_name": "VBoxView",
      "box_style": "",
      "children": [
       "IPY_MODEL_e5bc205f164041e185f8def451004f19",
       "IPY_MODEL_1ca102010e264c1d897dddb45badee37",
       "IPY_MODEL_ca68a2fd78d549628d7e7fad588e3b8c"
      ],
      "layout": "IPY_MODEL_0ad6157dc31841cb801e6b2ddb7ce22f"
     }
    },
    "359b62dd2cbc46a88942dc4827327c3f": {
     "model_module": "@jupyter-widgets/controls",
     "model_module_version": "1.5.0",
     "model_name": "IntSliderModel",
     "state": {
      "_dom_classes": [],
      "_model_module": "@jupyter-widgets/controls",
      "_model_module_version": "1.5.0",
      "_model_name": "IntSliderModel",
      "_view_count": null,
      "_view_module": "@jupyter-widgets/controls",
      "_view_module_version": "1.5.0",
      "_view_name": "IntSliderView",
      "continuous_update": true,
      "description": "min_freq",
      "description_tooltip": null,
      "disabled": false,
      "layout": "IPY_MODEL_971a40572012499daa255fad98a85adf",
      "max": 388,
      "min": 0,
      "orientation": "horizontal",
      "readout": true,
      "readout_format": "d",
      "step": 1,
      "style": "IPY_MODEL_1f675b6921ca47f5a1a0b2bd0b567cf4",
      "value": 75
     }
    },
    "42b1b15d021d4f3194059cd29fc4f3c9": {
     "model_module": "@jupyter-widgets/controls",
     "model_module_version": "1.5.0",
     "model_name": "HTMLModel",
     "state": {
      "_dom_classes": [],
      "_model_module": "@jupyter-widgets/controls",
      "_model_module_version": "1.5.0",
      "_model_name": "HTMLModel",
      "_view_count": null,
      "_view_module": "@jupyter-widgets/controls",
      "_view_module_version": "1.5.0",
      "_view_name": "HTMLView",
      "description": "",
      "description_tooltip": null,
      "layout": "IPY_MODEL_79215c90aa5347d78a05c004a5937f78",
      "placeholder": "​",
      "style": "IPY_MODEL_51d3a79ad14043639693f605d8796e2d",
      "value": " 232k/232k [00:00&lt;00:00, 4.65MB/s]"
     }
    },
    "44f3dfe2e62f4502ba3805922b45d4a5": {
     "model_module": "@jupyter-widgets/base",
     "model_module_version": "1.2.0",
     "model_name": "LayoutModel",
     "state": {
      "_model_module": "@jupyter-widgets/base",
      "_model_module_version": "1.2.0",
      "_model_name": "LayoutModel",
      "_view_count": null,
      "_view_module": "@jupyter-widgets/base",
      "_view_module_version": "1.2.0",
      "_view_name": "LayoutView",
      "align_content": null,
      "align_items": null,
      "align_self": null,
      "border": null,
      "bottom": null,
      "display": null,
      "flex": null,
      "flex_flow": null,
      "grid_area": null,
      "grid_auto_columns": null,
      "grid_auto_flow": null,
      "grid_auto_rows": null,
      "grid_column": null,
      "grid_gap": null,
      "grid_row": null,
      "grid_template_areas": null,
      "grid_template_columns": null,
      "grid_template_rows": null,
      "height": null,
      "justify_content": null,
      "justify_items": null,
      "left": null,
      "margin": null,
      "max_height": null,
      "max_width": null,
      "min_height": null,
      "min_width": null,
      "object_fit": null,
      "object_position": null,
      "order": null,
      "overflow": null,
      "overflow_x": null,
      "overflow_y": null,
      "padding": null,
      "right": null,
      "top": null,
      "visibility": null,
      "width": null
     }
    },
    "44f92639795f4c87827e47ce857d26e4": {
     "model_module": "@jupyter-widgets/controls",
     "model_module_version": "1.5.0",
     "model_name": "ProgressStyleModel",
     "state": {
      "_model_module": "@jupyter-widgets/controls",
      "_model_module_version": "1.5.0",
      "_model_name": "ProgressStyleModel",
      "_view_count": null,
      "_view_module": "@jupyter-widgets/base",
      "_view_module_version": "1.2.0",
      "_view_name": "StyleView",
      "bar_color": null,
      "description_width": ""
     }
    },
    "4511195968344252b4f52c1eaf3f9c5c": {
     "model_module": "@jupyter-widgets/base",
     "model_module_version": "1.2.0",
     "model_name": "LayoutModel",
     "state": {
      "_model_module": "@jupyter-widgets/base",
      "_model_module_version": "1.2.0",
      "_model_name": "LayoutModel",
      "_view_count": null,
      "_view_module": "@jupyter-widgets/base",
      "_view_module_version": "1.2.0",
      "_view_name": "LayoutView",
      "align_content": null,
      "align_items": null,
      "align_self": null,
      "border": null,
      "bottom": null,
      "display": null,
      "flex": null,
      "flex_flow": null,
      "grid_area": null,
      "grid_auto_columns": null,
      "grid_auto_flow": null,
      "grid_auto_rows": null,
      "grid_column": null,
      "grid_gap": null,
      "grid_row": null,
      "grid_template_areas": null,
      "grid_template_columns": null,
      "grid_template_rows": null,
      "height": null,
      "justify_content": null,
      "justify_items": null,
      "left": null,
      "margin": null,
      "max_height": null,
      "max_width": null,
      "min_height": null,
      "min_width": null,
      "object_fit": null,
      "object_position": null,
      "order": null,
      "overflow": null,
      "overflow_x": null,
      "overflow_y": null,
      "padding": null,
      "right": null,
      "top": null,
      "visibility": null,
      "width": null
     }
    },
    "474fc0e7e3544c5585800f9ae955045e": {
     "model_module": "@jupyter-widgets/base",
     "model_module_version": "1.2.0",
     "model_name": "LayoutModel",
     "state": {
      "_model_module": "@jupyter-widgets/base",
      "_model_module_version": "1.2.0",
      "_model_name": "LayoutModel",
      "_view_count": null,
      "_view_module": "@jupyter-widgets/base",
      "_view_module_version": "1.2.0",
      "_view_name": "LayoutView",
      "align_content": null,
      "align_items": null,
      "align_self": null,
      "border": null,
      "bottom": null,
      "display": null,
      "flex": null,
      "flex_flow": null,
      "grid_area": null,
      "grid_auto_columns": null,
      "grid_auto_flow": null,
      "grid_auto_rows": null,
      "grid_column": null,
      "grid_gap": null,
      "grid_row": null,
      "grid_template_areas": null,
      "grid_template_columns": null,
      "grid_template_rows": null,
      "height": null,
      "justify_content": null,
      "justify_items": null,
      "left": null,
      "margin": null,
      "max_height": null,
      "max_width": null,
      "min_height": null,
      "min_width": null,
      "object_fit": null,
      "object_position": null,
      "order": null,
      "overflow": null,
      "overflow_x": null,
      "overflow_y": null,
      "padding": null,
      "right": null,
      "top": null,
      "visibility": null,
      "width": null
     }
    },
    "49785b71cc2441b9b08a407d578bfb45": {
     "model_module": "@jupyter-widgets/controls",
     "model_module_version": "1.5.0",
     "model_name": "DescriptionStyleModel",
     "state": {
      "_model_module": "@jupyter-widgets/controls",
      "_model_module_version": "1.5.0",
      "_model_name": "DescriptionStyleModel",
      "_view_count": null,
      "_view_module": "@jupyter-widgets/base",
      "_view_module_version": "1.2.0",
      "_view_name": "StyleView",
      "description_width": ""
     }
    },
    "51d3a79ad14043639693f605d8796e2d": {
     "model_module": "@jupyter-widgets/controls",
     "model_module_version": "1.5.0",
     "model_name": "DescriptionStyleModel",
     "state": {
      "_model_module": "@jupyter-widgets/controls",
      "_model_module_version": "1.5.0",
      "_model_name": "DescriptionStyleModel",
      "_view_count": null,
      "_view_module": "@jupyter-widgets/base",
      "_view_module_version": "1.2.0",
      "_view_name": "StyleView",
      "description_width": ""
     }
    },
    "5524e89a63404335b45b19b7eaa0fe4e": {
     "model_module": "@jupyter-widgets/controls",
     "model_module_version": "1.5.0",
     "model_name": "DescriptionStyleModel",
     "state": {
      "_model_module": "@jupyter-widgets/controls",
      "_model_module_version": "1.5.0",
      "_model_name": "DescriptionStyleModel",
      "_view_count": null,
      "_view_module": "@jupyter-widgets/base",
      "_view_module_version": "1.2.0",
      "_view_name": "StyleView",
      "description_width": ""
     }
    },
    "57eb6d05395344a0aebc6274e6d09af5": {
     "model_module": "@jupyter-widgets/base",
     "model_module_version": "1.2.0",
     "model_name": "LayoutModel",
     "state": {
      "_model_module": "@jupyter-widgets/base",
      "_model_module_version": "1.2.0",
      "_model_name": "LayoutModel",
      "_view_count": null,
      "_view_module": "@jupyter-widgets/base",
      "_view_module_version": "1.2.0",
      "_view_name": "LayoutView",
      "align_content": null,
      "align_items": null,
      "align_self": null,
      "border": null,
      "bottom": null,
      "display": null,
      "flex": null,
      "flex_flow": null,
      "grid_area": null,
      "grid_auto_columns": null,
      "grid_auto_flow": null,
      "grid_auto_rows": null,
      "grid_column": null,
      "grid_gap": null,
      "grid_row": null,
      "grid_template_areas": null,
      "grid_template_columns": null,
      "grid_template_rows": null,
      "height": null,
      "justify_content": null,
      "justify_items": null,
      "left": null,
      "margin": null,
      "max_height": null,
      "max_width": null,
      "min_height": null,
      "min_width": null,
      "object_fit": null,
      "object_position": null,
      "order": null,
      "overflow": null,
      "overflow_x": null,
      "overflow_y": null,
      "padding": null,
      "right": null,
      "top": null,
      "visibility": null,
      "width": null
     }
    },
    "5894cfcc1a834f85844d2750e65de897": {
     "model_module": "@jupyter-widgets/base",
     "model_module_version": "1.2.0",
     "model_name": "LayoutModel",
     "state": {
      "_model_module": "@jupyter-widgets/base",
      "_model_module_version": "1.2.0",
      "_model_name": "LayoutModel",
      "_view_count": null,
      "_view_module": "@jupyter-widgets/base",
      "_view_module_version": "1.2.0",
      "_view_name": "LayoutView",
      "align_content": null,
      "align_items": null,
      "align_self": null,
      "border": null,
      "bottom": null,
      "display": null,
      "flex": null,
      "flex_flow": null,
      "grid_area": null,
      "grid_auto_columns": null,
      "grid_auto_flow": null,
      "grid_auto_rows": null,
      "grid_column": null,
      "grid_gap": null,
      "grid_row": null,
      "grid_template_areas": null,
      "grid_template_columns": null,
      "grid_template_rows": null,
      "height": null,
      "justify_content": null,
      "justify_items": null,
      "left": null,
      "margin": null,
      "max_height": null,
      "max_width": null,
      "min_height": null,
      "min_width": null,
      "object_fit": null,
      "object_position": null,
      "order": null,
      "overflow": null,
      "overflow_x": null,
      "overflow_y": null,
      "padding": null,
      "right": null,
      "top": null,
      "visibility": null,
      "width": null
     }
    },
    "5e95f24325b94286be5dcad5e802e225": {
     "model_module": "@jupyter-widgets/base",
     "model_module_version": "1.2.0",
     "model_name": "LayoutModel",
     "state": {
      "_model_module": "@jupyter-widgets/base",
      "_model_module_version": "1.2.0",
      "_model_name": "LayoutModel",
      "_view_count": null,
      "_view_module": "@jupyter-widgets/base",
      "_view_module_version": "1.2.0",
      "_view_name": "LayoutView",
      "align_content": null,
      "align_items": null,
      "align_self": null,
      "border": null,
      "bottom": null,
      "display": null,
      "flex": null,
      "flex_flow": null,
      "grid_area": null,
      "grid_auto_columns": null,
      "grid_auto_flow": null,
      "grid_auto_rows": null,
      "grid_column": null,
      "grid_gap": null,
      "grid_row": null,
      "grid_template_areas": null,
      "grid_template_columns": null,
      "grid_template_rows": null,
      "height": null,
      "justify_content": null,
      "justify_items": null,
      "left": null,
      "margin": null,
      "max_height": null,
      "max_width": null,
      "min_height": null,
      "min_width": null,
      "object_fit": null,
      "object_position": null,
      "order": null,
      "overflow": null,
      "overflow_x": null,
      "overflow_y": null,
      "padding": null,
      "right": null,
      "top": null,
      "visibility": null,
      "width": null
     }
    },
    "62236c22596e4dbd890124673edc88f7": {
     "model_module": "@jupyter-widgets/controls",
     "model_module_version": "1.5.0",
     "model_name": "DescriptionStyleModel",
     "state": {
      "_model_module": "@jupyter-widgets/controls",
      "_model_module_version": "1.5.0",
      "_model_name": "DescriptionStyleModel",
      "_view_count": null,
      "_view_module": "@jupyter-widgets/base",
      "_view_module_version": "1.2.0",
      "_view_name": "StyleView",
      "description_width": ""
     }
    },
    "6233bf11040c40179dc60ac2ab1b55c5": {
     "model_module": "@jupyter-widgets/controls",
     "model_module_version": "1.5.0",
     "model_name": "ProgressStyleModel",
     "state": {
      "_model_module": "@jupyter-widgets/controls",
      "_model_module_version": "1.5.0",
      "_model_name": "ProgressStyleModel",
      "_view_count": null,
      "_view_module": "@jupyter-widgets/base",
      "_view_module_version": "1.2.0",
      "_view_name": "StyleView",
      "bar_color": null,
      "description_width": ""
     }
    },
    "62564f4dbbf64a6994240cadb933bf7d": {
     "model_module": "@jupyter-widgets/controls",
     "model_module_version": "1.5.0",
     "model_name": "HTMLModel",
     "state": {
      "_dom_classes": [],
      "_model_module": "@jupyter-widgets/controls",
      "_model_module_version": "1.5.0",
      "_model_name": "HTMLModel",
      "_view_count": null,
      "_view_module": "@jupyter-widgets/controls",
      "_view_module_version": "1.5.0",
      "_view_name": "HTMLView",
      "description": "",
      "description_tooltip": null,
      "layout": "IPY_MODEL_44f3dfe2e62f4502ba3805922b45d4a5",
      "placeholder": "​",
      "style": "IPY_MODEL_2bb808e56f884fb7aa98f26f30b5b656",
      "value": "Downloading: 100%"
     }
    },
    "6633b170751c483581dade33c64692ce": {
     "model_module": "@jupyter-widgets/controls",
     "model_module_version": "1.5.0",
     "model_name": "DescriptionStyleModel",
     "state": {
      "_model_module": "@jupyter-widgets/controls",
      "_model_module_version": "1.5.0",
      "_model_name": "DescriptionStyleModel",
      "_view_count": null,
      "_view_module": "@jupyter-widgets/base",
      "_view_module_version": "1.2.0",
      "_view_name": "StyleView",
      "description_width": ""
     }
    },
    "68cbe30ad0864c3a93054e3585040bef": {
     "model_module": "@jupyter-widgets/controls",
     "model_module_version": "1.5.0",
     "model_name": "DescriptionStyleModel",
     "state": {
      "_model_module": "@jupyter-widgets/controls",
      "_model_module_version": "1.5.0",
      "_model_name": "DescriptionStyleModel",
      "_view_count": null,
      "_view_module": "@jupyter-widgets/base",
      "_view_module_version": "1.2.0",
      "_view_name": "StyleView",
      "description_width": ""
     }
    },
    "68d2d514d85b40629115f4f2ca3e3406": {
     "model_module": "@jupyter-widgets/controls",
     "model_module_version": "1.5.0",
     "model_name": "VBoxModel",
     "state": {
      "_dom_classes": [
       "widget-interact"
      ],
      "_model_module": "@jupyter-widgets/controls",
      "_model_module_version": "1.5.0",
      "_model_name": "VBoxModel",
      "_view_count": null,
      "_view_module": "@jupyter-widgets/controls",
      "_view_module_version": "1.5.0",
      "_view_name": "VBoxView",
      "box_style": "",
      "children": [
       "IPY_MODEL_c6d87d95cca841aba71fb8009a5228b3",
       "IPY_MODEL_9969312a5d134e699d0537eb21101bd1"
      ],
      "layout": "IPY_MODEL_11fddde0ce614d37b98e4e8b254c5900"
     }
    },
    "6eac1fd231194945b48941153e9a7025": {
     "model_module": "@jupyter-widgets/base",
     "model_module_version": "1.2.0",
     "model_name": "LayoutModel",
     "state": {
      "_model_module": "@jupyter-widgets/base",
      "_model_module_version": "1.2.0",
      "_model_name": "LayoutModel",
      "_view_count": null,
      "_view_module": "@jupyter-widgets/base",
      "_view_module_version": "1.2.0",
      "_view_name": "LayoutView",
      "align_content": null,
      "align_items": null,
      "align_self": null,
      "border": null,
      "bottom": null,
      "display": null,
      "flex": null,
      "flex_flow": null,
      "grid_area": null,
      "grid_auto_columns": null,
      "grid_auto_flow": null,
      "grid_auto_rows": null,
      "grid_column": null,
      "grid_gap": null,
      "grid_row": null,
      "grid_template_areas": null,
      "grid_template_columns": null,
      "grid_template_rows": null,
      "height": null,
      "justify_content": null,
      "justify_items": null,
      "left": null,
      "margin": null,
      "max_height": null,
      "max_width": null,
      "min_height": null,
      "min_width": null,
      "object_fit": null,
      "object_position": null,
      "order": null,
      "overflow": null,
      "overflow_x": null,
      "overflow_y": null,
      "padding": null,
      "right": null,
      "top": null,
      "visibility": null,
      "width": null
     }
    },
    "6efbf894bdce4c2bb074e9040978d18a": {
     "model_module": "@jupyter-widgets/base",
     "model_module_version": "1.2.0",
     "model_name": "LayoutModel",
     "state": {
      "_model_module": "@jupyter-widgets/base",
      "_model_module_version": "1.2.0",
      "_model_name": "LayoutModel",
      "_view_count": null,
      "_view_module": "@jupyter-widgets/base",
      "_view_module_version": "1.2.0",
      "_view_name": "LayoutView",
      "align_content": null,
      "align_items": null,
      "align_self": null,
      "border": null,
      "bottom": null,
      "display": null,
      "flex": null,
      "flex_flow": null,
      "grid_area": null,
      "grid_auto_columns": null,
      "grid_auto_flow": null,
      "grid_auto_rows": null,
      "grid_column": null,
      "grid_gap": null,
      "grid_row": null,
      "grid_template_areas": null,
      "grid_template_columns": null,
      "grid_template_rows": null,
      "height": null,
      "justify_content": null,
      "justify_items": null,
      "left": null,
      "margin": null,
      "max_height": null,
      "max_width": null,
      "min_height": null,
      "min_width": null,
      "object_fit": null,
      "object_position": null,
      "order": null,
      "overflow": null,
      "overflow_x": null,
      "overflow_y": null,
      "padding": null,
      "right": null,
      "top": null,
      "visibility": null,
      "width": null
     }
    },
    "704ae0162c4348099d89f7b6a3fd193f": {
     "model_module": "@jupyter-widgets/base",
     "model_module_version": "1.2.0",
     "model_name": "LayoutModel",
     "state": {
      "_model_module": "@jupyter-widgets/base",
      "_model_module_version": "1.2.0",
      "_model_name": "LayoutModel",
      "_view_count": null,
      "_view_module": "@jupyter-widgets/base",
      "_view_module_version": "1.2.0",
      "_view_name": "LayoutView",
      "align_content": null,
      "align_items": null,
      "align_self": null,
      "border": null,
      "bottom": null,
      "display": null,
      "flex": null,
      "flex_flow": null,
      "grid_area": null,
      "grid_auto_columns": null,
      "grid_auto_flow": null,
      "grid_auto_rows": null,
      "grid_column": null,
      "grid_gap": null,
      "grid_row": null,
      "grid_template_areas": null,
      "grid_template_columns": null,
      "grid_template_rows": null,
      "height": null,
      "justify_content": null,
      "justify_items": null,
      "left": null,
      "margin": null,
      "max_height": null,
      "max_width": null,
      "min_height": null,
      "min_width": null,
      "object_fit": null,
      "object_position": null,
      "order": null,
      "overflow": null,
      "overflow_x": null,
      "overflow_y": null,
      "padding": null,
      "right": null,
      "top": null,
      "visibility": null,
      "width": null
     }
    },
    "79215c90aa5347d78a05c004a5937f78": {
     "model_module": "@jupyter-widgets/base",
     "model_module_version": "1.2.0",
     "model_name": "LayoutModel",
     "state": {
      "_model_module": "@jupyter-widgets/base",
      "_model_module_version": "1.2.0",
      "_model_name": "LayoutModel",
      "_view_count": null,
      "_view_module": "@jupyter-widgets/base",
      "_view_module_version": "1.2.0",
      "_view_name": "LayoutView",
      "align_content": null,
      "align_items": null,
      "align_self": null,
      "border": null,
      "bottom": null,
      "display": null,
      "flex": null,
      "flex_flow": null,
      "grid_area": null,
      "grid_auto_columns": null,
      "grid_auto_flow": null,
      "grid_auto_rows": null,
      "grid_column": null,
      "grid_gap": null,
      "grid_row": null,
      "grid_template_areas": null,
      "grid_template_columns": null,
      "grid_template_rows": null,
      "height": null,
      "justify_content": null,
      "justify_items": null,
      "left": null,
      "margin": null,
      "max_height": null,
      "max_width": null,
      "min_height": null,
      "min_width": null,
      "object_fit": null,
      "object_position": null,
      "order": null,
      "overflow": null,
      "overflow_x": null,
      "overflow_y": null,
      "padding": null,
      "right": null,
      "top": null,
      "visibility": null,
      "width": null
     }
    },
    "7986691c01c24a009482404b72a75b90": {
     "model_module": "@jupyter-widgets/base",
     "model_module_version": "1.2.0",
     "model_name": "LayoutModel",
     "state": {
      "_model_module": "@jupyter-widgets/base",
      "_model_module_version": "1.2.0",
      "_model_name": "LayoutModel",
      "_view_count": null,
      "_view_module": "@jupyter-widgets/base",
      "_view_module_version": "1.2.0",
      "_view_name": "LayoutView",
      "align_content": null,
      "align_items": null,
      "align_self": null,
      "border": null,
      "bottom": null,
      "display": null,
      "flex": null,
      "flex_flow": null,
      "grid_area": null,
      "grid_auto_columns": null,
      "grid_auto_flow": null,
      "grid_auto_rows": null,
      "grid_column": null,
      "grid_gap": null,
      "grid_row": null,
      "grid_template_areas": null,
      "grid_template_columns": null,
      "grid_template_rows": null,
      "height": null,
      "justify_content": null,
      "justify_items": null,
      "left": null,
      "margin": null,
      "max_height": null,
      "max_width": null,
      "min_height": null,
      "min_width": null,
      "object_fit": null,
      "object_position": null,
      "order": null,
      "overflow": null,
      "overflow_x": null,
      "overflow_y": null,
      "padding": null,
      "right": null,
      "top": null,
      "visibility": null,
      "width": null
     }
    },
    "7c6772b155994b50a3fd6737a2557f90": {
     "model_module": "@jupyter-widgets/controls",
     "model_module_version": "1.5.0",
     "model_name": "HTMLModel",
     "state": {
      "_dom_classes": [],
      "_model_module": "@jupyter-widgets/controls",
      "_model_module_version": "1.5.0",
      "_model_name": "HTMLModel",
      "_view_count": null,
      "_view_module": "@jupyter-widgets/controls",
      "_view_module_version": "1.5.0",
      "_view_name": "HTMLView",
      "description": "",
      "description_tooltip": null,
      "layout": "IPY_MODEL_5894cfcc1a834f85844d2750e65de897",
      "placeholder": "​",
      "style": "IPY_MODEL_1db3d2c854134bcaac2e264805ee3146",
      "value": " 268M/268M [00:05&lt;00:00, 51.6MB/s]"
     }
    },
    "80056f72e00b4e11b56fd750d7e8a99d": {
     "model_module": "@jupyter-widgets/output",
     "model_module_version": "1.0.0",
     "model_name": "OutputModel",
     "state": {
      "_dom_classes": [],
      "_model_module": "@jupyter-widgets/output",
      "_model_module_version": "1.0.0",
      "_model_name": "OutputModel",
      "_view_count": null,
      "_view_module": "@jupyter-widgets/output",
      "_view_module_version": "1.0.0",
      "_view_name": "OutputView",
      "layout": "IPY_MODEL_7986691c01c24a009482404b72a75b90",
      "msg_id": "",
      "outputs": [
       {
        "name": "stdout",
        "output_type": "stream",
        "text": [
         "Most popular tags:\n",
         " [('natural-language-processing', 388), ('computer-vision', 356), ('other', 87)]\n",
         "\n",
         "Tags that just made the cut:\n",
         " [('computer-vision', 356), ('other', 87), ('mlops', 79)]\n",
         "\n",
         "Tags that just missed the cut:\n",
         " [('graph-learning', 45)]\n"
        ]
       }
      ]
     }
    },
    "802524a176f645ce8ad7efe1e0493d07": {
     "model_module": "@jupyter-widgets/controls",
     "model_module_version": "1.5.0",
     "model_name": "ProgressStyleModel",
     "state": {
      "_model_module": "@jupyter-widgets/controls",
      "_model_module_version": "1.5.0",
      "_model_name": "ProgressStyleModel",
      "_view_count": null,
      "_view_module": "@jupyter-widgets/base",
      "_view_module_version": "1.2.0",
      "_view_name": "StyleView",
      "bar_color": null,
      "description_width": ""
     }
    },
    "82fe0d77514a4befb291b9158a955c44": {
     "model_module": "@jupyter-widgets/base",
     "model_module_version": "1.2.0",
     "model_name": "LayoutModel",
     "state": {
      "_model_module": "@jupyter-widgets/base",
      "_model_module_version": "1.2.0",
      "_model_name": "LayoutModel",
      "_view_count": null,
      "_view_module": "@jupyter-widgets/base",
      "_view_module_version": "1.2.0",
      "_view_name": "LayoutView",
      "align_content": null,
      "align_items": null,
      "align_self": null,
      "border": null,
      "bottom": null,
      "display": null,
      "flex": null,
      "flex_flow": null,
      "grid_area": null,
      "grid_auto_columns": null,
      "grid_auto_flow": null,
      "grid_auto_rows": null,
      "grid_column": null,
      "grid_gap": null,
      "grid_row": null,
      "grid_template_areas": null,
      "grid_template_columns": null,
      "grid_template_rows": null,
      "height": null,
      "justify_content": null,
      "justify_items": null,
      "left": null,
      "margin": null,
      "max_height": null,
      "max_width": null,
      "min_height": null,
      "min_width": null,
      "object_fit": null,
      "object_position": null,
      "order": null,
      "overflow": null,
      "overflow_x": null,
      "overflow_y": null,
      "padding": null,
      "right": null,
      "top": null,
      "visibility": null,
      "width": null
     }
    },
    "86077943953e43b18524514f14724dcb": {
     "model_module": "@jupyter-widgets/controls",
     "model_module_version": "1.5.0",
     "model_name": "HBoxModel",
     "state": {
      "_dom_classes": [],
      "_model_module": "@jupyter-widgets/controls",
      "_model_module_version": "1.5.0",
      "_model_name": "HBoxModel",
      "_view_count": null,
      "_view_module": "@jupyter-widgets/controls",
      "_view_module_version": "1.5.0",
      "_view_name": "HBoxView",
      "box_style": "",
      "children": [
       "IPY_MODEL_eca32c4e1c4742d7be7b057cf236ebc7",
       "IPY_MODEL_d6264af9cee74347b65b373a22ed95a5",
       "IPY_MODEL_42b1b15d021d4f3194059cd29fc4f3c9"
      ],
      "layout": "IPY_MODEL_a5c344cea8ae409889599e15d3417b0a"
     }
    },
    "87a32d5069024b80a40e4ab03d377c8a": {
     "model_module": "@jupyter-widgets/base",
     "model_module_version": "1.2.0",
     "model_name": "LayoutModel",
     "state": {
      "_model_module": "@jupyter-widgets/base",
      "_model_module_version": "1.2.0",
      "_model_name": "LayoutModel",
      "_view_count": null,
      "_view_module": "@jupyter-widgets/base",
      "_view_module_version": "1.2.0",
      "_view_name": "LayoutView",
      "align_content": null,
      "align_items": null,
      "align_self": null,
      "border": null,
      "bottom": null,
      "display": null,
      "flex": null,
      "flex_flow": null,
      "grid_area": null,
      "grid_auto_columns": null,
      "grid_auto_flow": null,
      "grid_auto_rows": null,
      "grid_column": null,
      "grid_gap": null,
      "grid_row": null,
      "grid_template_areas": null,
      "grid_template_columns": null,
      "grid_template_rows": null,
      "height": null,
      "justify_content": null,
      "justify_items": null,
      "left": null,
      "margin": null,
      "max_height": null,
      "max_width": null,
      "min_height": null,
      "min_width": null,
      "object_fit": null,
      "object_position": null,
      "order": null,
      "overflow": null,
      "overflow_x": null,
      "overflow_y": null,
      "padding": null,
      "right": null,
      "top": null,
      "visibility": null,
      "width": null
     }
    },
    "971a40572012499daa255fad98a85adf": {
     "model_module": "@jupyter-widgets/base",
     "model_module_version": "1.2.0",
     "model_name": "LayoutModel",
     "state": {
      "_model_module": "@jupyter-widgets/base",
      "_model_module_version": "1.2.0",
      "_model_name": "LayoutModel",
      "_view_count": null,
      "_view_module": "@jupyter-widgets/base",
      "_view_module_version": "1.2.0",
      "_view_name": "LayoutView",
      "align_content": null,
      "align_items": null,
      "align_self": null,
      "border": null,
      "bottom": null,
      "display": null,
      "flex": null,
      "flex_flow": null,
      "grid_area": null,
      "grid_auto_columns": null,
      "grid_auto_flow": null,
      "grid_auto_rows": null,
      "grid_column": null,
      "grid_gap": null,
      "grid_row": null,
      "grid_template_areas": null,
      "grid_template_columns": null,
      "grid_template_rows": null,
      "height": null,
      "justify_content": null,
      "justify_items": null,
      "left": null,
      "margin": null,
      "max_height": null,
      "max_width": null,
      "min_height": null,
      "min_width": null,
      "object_fit": null,
      "object_position": null,
      "order": null,
      "overflow": null,
      "overflow_x": null,
      "overflow_y": null,
      "padding": null,
      "right": null,
      "top": null,
      "visibility": null,
      "width": null
     }
    },
    "9969312a5d134e699d0537eb21101bd1": {
     "model_module": "@jupyter-widgets/output",
     "model_module_version": "1.0.0",
     "model_name": "OutputModel",
     "state": {
      "_dom_classes": [],
      "_model_module": "@jupyter-widgets/output",
      "_model_module_version": "1.0.0",
      "_model_name": "OutputModel",
      "_view_count": null,
      "_view_module": "@jupyter-widgets/output",
      "_view_module_version": "1.0.0",
      "_view_name": "OutputView",
      "layout": "IPY_MODEL_cc6c23f00ab7435f931783fddaa1f895",
      "msg_id": "",
      "outputs": [
       {
        "data": {
         "image/png": "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\n",
         "text/plain": "<Figure size 1080x360 with 1 Axes>"
        },
        "metadata": {},
        "output_type": "display_data"
       }
      ]
     }
    },
    "a5c344cea8ae409889599e15d3417b0a": {
     "model_module": "@jupyter-widgets/base",
     "model_module_version": "1.2.0",
     "model_name": "LayoutModel",
     "state": {
      "_model_module": "@jupyter-widgets/base",
      "_model_module_version": "1.2.0",
      "_model_name": "LayoutModel",
      "_view_count": null,
      "_view_module": "@jupyter-widgets/base",
      "_view_module_version": "1.2.0",
      "_view_name": "LayoutView",
      "align_content": null,
      "align_items": null,
      "align_self": null,
      "border": null,
      "bottom": null,
      "display": null,
      "flex": null,
      "flex_flow": null,
      "grid_area": null,
      "grid_auto_columns": null,
      "grid_auto_flow": null,
      "grid_auto_rows": null,
      "grid_column": null,
      "grid_gap": null,
      "grid_row": null,
      "grid_template_areas": null,
      "grid_template_columns": null,
      "grid_template_rows": null,
      "height": null,
      "justify_content": null,
      "justify_items": null,
      "left": null,
      "margin": null,
      "max_height": null,
      "max_width": null,
      "min_height": null,
      "min_width": null,
      "object_fit": null,
      "object_position": null,
      "order": null,
      "overflow": null,
      "overflow_x": null,
      "overflow_y": null,
      "padding": null,
      "right": null,
      "top": null,
      "visibility": null,
      "width": null
     }
    },
    "a690d3c5a6bc4291877c410a828b0a95": {
     "model_module": "@jupyter-widgets/controls",
     "model_module_version": "1.5.0",
     "model_name": "HBoxModel",
     "state": {
      "_dom_classes": [],
      "_model_module": "@jupyter-widgets/controls",
      "_model_module_version": "1.5.0",
      "_model_name": "HBoxModel",
      "_view_count": null,
      "_view_module": "@jupyter-widgets/controls",
      "_view_module_version": "1.5.0",
      "_view_name": "HBoxView",
      "box_style": "",
      "children": [
       "IPY_MODEL_eb887f9e6c56430bb39a6629e8dce1a3",
       "IPY_MODEL_fa7497dc3f3a4e868ae62b00d2e88cc7",
       "IPY_MODEL_7c6772b155994b50a3fd6737a2557f90"
      ],
      "layout": "IPY_MODEL_ad99bcdf6bbc48e48c7a6b7ba74cb584"
     }
    },
    "a8589207309c4b12a1ef9a4021318f2e": {
     "model_module": "@jupyter-widgets/controls",
     "model_module_version": "1.5.0",
     "model_name": "HBoxModel",
     "state": {
      "_dom_classes": [],
      "_model_module": "@jupyter-widgets/controls",
      "_model_module_version": "1.5.0",
      "_model_name": "HBoxModel",
      "_view_count": null,
      "_view_module": "@jupyter-widgets/controls",
      "_view_module_version": "1.5.0",
      "_view_name": "HBoxView",
      "box_style": "",
      "children": [
       "IPY_MODEL_62564f4dbbf64a6994240cadb933bf7d",
       "IPY_MODEL_071759e2244d4f72bd615e63d86626fd",
       "IPY_MODEL_163a1a07e6c74e8e94cb5eebb06547d6"
      ],
      "layout": "IPY_MODEL_4511195968344252b4f52c1eaf3f9c5c"
     }
    },
    "a934051f60f44ee180dfb1820b6acdcd": {
     "model_module": "@jupyter-widgets/base",
     "model_module_version": "1.2.0",
     "model_name": "LayoutModel",
     "state": {
      "_model_module": "@jupyter-widgets/base",
      "_model_module_version": "1.2.0",
      "_model_name": "LayoutModel",
      "_view_count": null,
      "_view_module": "@jupyter-widgets/base",
      "_view_module_version": "1.2.0",
      "_view_name": "LayoutView",
      "align_content": null,
      "align_items": null,
      "align_self": null,
      "border": null,
      "bottom": null,
      "display": null,
      "flex": null,
      "flex_flow": null,
      "grid_area": null,
      "grid_auto_columns": null,
      "grid_auto_flow": null,
      "grid_auto_rows": null,
      "grid_column": null,
      "grid_gap": null,
      "grid_row": null,
      "grid_template_areas": null,
      "grid_template_columns": null,
      "grid_template_rows": null,
      "height": null,
      "justify_content": null,
      "justify_items": null,
      "left": null,
      "margin": null,
      "max_height": null,
      "max_width": null,
      "min_height": null,
      "min_width": null,
      "object_fit": null,
      "object_position": null,
      "order": null,
      "overflow": null,
      "overflow_x": null,
      "overflow_y": null,
      "padding": null,
      "right": null,
      "top": null,
      "visibility": null,
      "width": null
     }
    },
    "ad99bcdf6bbc48e48c7a6b7ba74cb584": {
     "model_module": "@jupyter-widgets/base",
     "model_module_version": "1.2.0",
     "model_name": "LayoutModel",
     "state": {
      "_model_module": "@jupyter-widgets/base",
      "_model_module_version": "1.2.0",
      "_model_name": "LayoutModel",
      "_view_count": null,
      "_view_module": "@jupyter-widgets/base",
      "_view_module_version": "1.2.0",
      "_view_name": "LayoutView",
      "align_content": null,
      "align_items": null,
      "align_self": null,
      "border": null,
      "bottom": null,
      "display": null,
      "flex": null,
      "flex_flow": null,
      "grid_area": null,
      "grid_auto_columns": null,
      "grid_auto_flow": null,
      "grid_auto_rows": null,
      "grid_column": null,
      "grid_gap": null,
      "grid_row": null,
      "grid_template_areas": null,
      "grid_template_columns": null,
      "grid_template_rows": null,
      "height": null,
      "justify_content": null,
      "justify_items": null,
      "left": null,
      "margin": null,
      "max_height": null,
      "max_width": null,
      "min_height": null,
      "min_width": null,
      "object_fit": null,
      "object_position": null,
      "order": null,
      "overflow": null,
      "overflow_x": null,
      "overflow_y": null,
      "padding": null,
      "right": null,
      "top": null,
      "visibility": null,
      "width": null
     }
    },
    "be8a0a0f1f624a64bf5d75f59eb47948": {
     "model_module": "@jupyter-widgets/base",
     "model_module_version": "1.2.0",
     "model_name": "LayoutModel",
     "state": {
      "_model_module": "@jupyter-widgets/base",
      "_model_module_version": "1.2.0",
      "_model_name": "LayoutModel",
      "_view_count": null,
      "_view_module": "@jupyter-widgets/base",
      "_view_module_version": "1.2.0",
      "_view_name": "LayoutView",
      "align_content": null,
      "align_items": null,
      "align_self": null,
      "border": null,
      "bottom": null,
      "display": null,
      "flex": null,
      "flex_flow": null,
      "grid_area": null,
      "grid_auto_columns": null,
      "grid_auto_flow": null,
      "grid_auto_rows": null,
      "grid_column": null,
      "grid_gap": null,
      "grid_row": null,
      "grid_template_areas": null,
      "grid_template_columns": null,
      "grid_template_rows": null,
      "height": null,
      "justify_content": null,
      "justify_items": null,
      "left": null,
      "margin": null,
      "max_height": null,
      "max_width": null,
      "min_height": null,
      "min_width": null,
      "object_fit": null,
      "object_position": null,
      "order": null,
      "overflow": null,
      "overflow_x": null,
      "overflow_y": null,
      "padding": null,
      "right": null,
      "top": null,
      "visibility": null,
      "width": null
     }
    },
    "c59f8bc64cf14c238904d1b17ecfc5ca": {
     "model_module": "@jupyter-widgets/base",
     "model_module_version": "1.2.0",
     "model_name": "LayoutModel",
     "state": {
      "_model_module": "@jupyter-widgets/base",
      "_model_module_version": "1.2.0",
      "_model_name": "LayoutModel",
      "_view_count": null,
      "_view_module": "@jupyter-widgets/base",
      "_view_module_version": "1.2.0",
      "_view_name": "LayoutView",
      "align_content": null,
      "align_items": null,
      "align_self": null,
      "border": null,
      "bottom": null,
      "display": null,
      "flex": null,
      "flex_flow": null,
      "grid_area": null,
      "grid_auto_columns": null,
      "grid_auto_flow": null,
      "grid_auto_rows": null,
      "grid_column": null,
      "grid_gap": null,
      "grid_row": null,
      "grid_template_areas": null,
      "grid_template_columns": null,
      "grid_template_rows": null,
      "height": null,
      "justify_content": null,
      "justify_items": null,
      "left": null,
      "margin": null,
      "max_height": null,
      "max_width": null,
      "min_height": null,
      "min_width": null,
      "object_fit": null,
      "object_position": null,
      "order": null,
      "overflow": null,
      "overflow_x": null,
      "overflow_y": null,
      "padding": null,
      "right": null,
      "top": null,
      "visibility": null,
      "width": null
     }
    },
    "c6d87d95cca841aba71fb8009a5228b3": {
     "model_module": "@jupyter-widgets/controls",
     "model_module_version": "1.5.0",
     "model_name": "DropdownModel",
     "state": {
      "_dom_classes": [],
      "_model_module": "@jupyter-widgets/controls",
      "_model_module_version": "1.5.0",
      "_model_name": "DropdownModel",
      "_options_labels": [
       "computer-vision",
       "graph-learning",
       "reinforcement-learning",
       "natural-language-processing",
       "mlops",
       "time-series"
      ],
      "_view_count": null,
      "_view_module": "@jupyter-widgets/controls",
      "_view_module_version": "1.5.0",
      "_view_name": "DropdownView",
      "description": "tag",
      "description_tooltip": null,
      "disabled": false,
      "index": 3,
      "layout": "IPY_MODEL_be8a0a0f1f624a64bf5d75f59eb47948",
      "style": "IPY_MODEL_62236c22596e4dbd890124673edc88f7"
     }
    },
    "ca68a2fd78d549628d7e7fad588e3b8c": {
     "model_module": "@jupyter-widgets/output",
     "model_module_version": "1.0.0",
     "model_name": "OutputModel",
     "state": {
      "_dom_classes": [],
      "_model_module": "@jupyter-widgets/output",
      "_model_module_version": "1.0.0",
      "_model_name": "OutputModel",
      "_view_count": null,
      "_view_module": "@jupyter-widgets/output",
      "_view_module_version": "1.0.0",
      "_view_name": "OutputView",
      "layout": "IPY_MODEL_6efbf894bdce4c2bb074e9040978d18a",
      "msg_id": "",
      "outputs": [
       {
        "name": "stdout",
        "output_type": "stream",
        "text": [
         "conditional image generation using variational autoencoders gans\n"
        ]
       }
      ]
     }
    },
    "cc6c23f00ab7435f931783fddaa1f895": {
     "model_module": "@jupyter-widgets/base",
     "model_module_version": "1.2.0",
     "model_name": "LayoutModel",
     "state": {
      "_model_module": "@jupyter-widgets/base",
      "_model_module_version": "1.2.0",
      "_model_name": "LayoutModel",
      "_view_count": null,
      "_view_module": "@jupyter-widgets/base",
      "_view_module_version": "1.2.0",
      "_view_name": "LayoutView",
      "align_content": null,
      "align_items": null,
      "align_self": null,
      "border": null,
      "bottom": null,
      "display": null,
      "flex": null,
      "flex_flow": null,
      "grid_area": null,
      "grid_auto_columns": null,
      "grid_auto_flow": null,
      "grid_auto_rows": null,
      "grid_column": null,
      "grid_gap": null,
      "grid_row": null,
      "grid_template_areas": null,
      "grid_template_columns": null,
      "grid_template_rows": null,
      "height": null,
      "justify_content": null,
      "justify_items": null,
      "left": null,
      "margin": null,
      "max_height": null,
      "max_width": null,
      "min_height": null,
      "min_width": null,
      "object_fit": null,
      "object_position": null,
      "order": null,
      "overflow": null,
      "overflow_x": null,
      "overflow_y": null,
      "padding": null,
      "right": null,
      "top": null,
      "visibility": null,
      "width": null
     }
    },
    "d6264af9cee74347b65b373a22ed95a5": {
     "model_module": "@jupyter-widgets/controls",
     "model_module_version": "1.5.0",
     "model_name": "FloatProgressModel",
     "state": {
      "_dom_classes": [],
      "_model_module": "@jupyter-widgets/controls",
      "_model_module_version": "1.5.0",
      "_model_name": "FloatProgressModel",
      "_view_count": null,
      "_view_module": "@jupyter-widgets/controls",
      "_view_module_version": "1.5.0",
      "_view_name": "ProgressView",
      "bar_style": "success",
      "description": "",
      "description_tooltip": null,
      "layout": "IPY_MODEL_0b527166ad494985a5c8725e06231622",
      "max": 231508,
      "min": 0,
      "orientation": "horizontal",
      "style": "IPY_MODEL_6233bf11040c40179dc60ac2ab1b55c5",
      "value": 231508
     }
    },
    "dca5635ca22441d192c944a115ecdfd1": {
     "model_module": "@jupyter-widgets/controls",
     "model_module_version": "1.5.0",
     "model_name": "VBoxModel",
     "state": {
      "_dom_classes": [
       "widget-interact"
      ],
      "_model_module": "@jupyter-widgets/controls",
      "_model_module_version": "1.5.0",
      "_model_name": "VBoxModel",
      "_view_count": null,
      "_view_module": "@jupyter-widgets/controls",
      "_view_module_version": "1.5.0",
      "_view_name": "VBoxView",
      "box_style": "",
      "children": [
       "IPY_MODEL_faa57737821f4734a1e3a566441da047",
       "IPY_MODEL_15a5bd9bd1f24afdbc05070cd4320ad5"
      ],
      "layout": "IPY_MODEL_6eac1fd231194945b48941153e9a7025"
     }
    },
    "e0a28ea4b0124251a202b96941cba3e1": {
     "model_module": "@jupyter-widgets/controls",
     "model_module_version": "1.5.0",
     "model_name": "DescriptionStyleModel",
     "state": {
      "_model_module": "@jupyter-widgets/controls",
      "_model_module_version": "1.5.0",
      "_model_name": "DescriptionStyleModel",
      "_view_count": null,
      "_view_module": "@jupyter-widgets/base",
      "_view_module_version": "1.2.0",
      "_view_name": "StyleView",
      "description_width": ""
     }
    },
    "e5bc205f164041e185f8def451004f19": {
     "model_module": "@jupyter-widgets/controls",
     "model_module_version": "1.5.0",
     "model_name": "CheckboxModel",
     "state": {
      "_dom_classes": [],
      "_model_module": "@jupyter-widgets/controls",
      "_model_module_version": "1.5.0",
      "_model_name": "CheckboxModel",
      "_view_count": null,
      "_view_module": "@jupyter-widgets/controls",
      "_view_module_version": "1.5.0",
      "_view_name": "CheckboxView",
      "description": "lower",
      "description_tooltip": null,
      "disabled": false,
      "indent": true,
      "layout": "IPY_MODEL_474fc0e7e3544c5585800f9ae955045e",
      "style": "IPY_MODEL_21679cda152446509ccb35476eed9470",
      "value": true
     }
    },
    "e928b2a49d824d309efb334e964b0979": {
     "model_module": "@jupyter-widgets/base",
     "model_module_version": "1.2.0",
     "model_name": "LayoutModel",
     "state": {
      "_model_module": "@jupyter-widgets/base",
      "_model_module_version": "1.2.0",
      "_model_name": "LayoutModel",
      "_view_count": null,
      "_view_module": "@jupyter-widgets/base",
      "_view_module_version": "1.2.0",
      "_view_name": "LayoutView",
      "align_content": null,
      "align_items": null,
      "align_self": null,
      "border": null,
      "bottom": null,
      "display": null,
      "flex": null,
      "flex_flow": null,
      "grid_area": null,
      "grid_auto_columns": null,
      "grid_auto_flow": null,
      "grid_auto_rows": null,
      "grid_column": null,
      "grid_gap": null,
      "grid_row": null,
      "grid_template_areas": null,
      "grid_template_columns": null,
      "grid_template_rows": null,
      "height": null,
      "justify_content": null,
      "justify_items": null,
      "left": null,
      "margin": null,
      "max_height": null,
      "max_width": null,
      "min_height": null,
      "min_width": null,
      "object_fit": null,
      "object_position": null,
      "order": null,
      "overflow": null,
      "overflow_x": null,
      "overflow_y": null,
      "padding": null,
      "right": null,
      "top": null,
      "visibility": null,
      "width": null
     }
    },
    "eb887f9e6c56430bb39a6629e8dce1a3": {
     "model_module": "@jupyter-widgets/controls",
     "model_module_version": "1.5.0",
     "model_name": "HTMLModel",
     "state": {
      "_dom_classes": [],
      "_model_module": "@jupyter-widgets/controls",
      "_model_module_version": "1.5.0",
      "_model_name": "HTMLModel",
      "_view_count": null,
      "_view_module": "@jupyter-widgets/controls",
      "_view_module_version": "1.5.0",
      "_view_name": "HTMLView",
      "description": "",
      "description_tooltip": null,
      "layout": "IPY_MODEL_a934051f60f44ee180dfb1820b6acdcd",
      "placeholder": "​",
      "style": "IPY_MODEL_6633b170751c483581dade33c64692ce",
      "value": "Downloading: 100%"
     }
    },
    "eca32c4e1c4742d7be7b057cf236ebc7": {
     "model_module": "@jupyter-widgets/controls",
     "model_module_version": "1.5.0",
     "model_name": "HTMLModel",
     "state": {
      "_dom_classes": [],
      "_model_module": "@jupyter-widgets/controls",
      "_model_module_version": "1.5.0",
      "_model_name": "HTMLModel",
      "_view_count": null,
      "_view_module": "@jupyter-widgets/controls",
      "_view_module_version": "1.5.0",
      "_view_name": "HTMLView",
      "description": "",
      "description_tooltip": null,
      "layout": "IPY_MODEL_5e95f24325b94286be5dcad5e802e225",
      "placeholder": "​",
      "style": "IPY_MODEL_49785b71cc2441b9b08a407d578bfb45",
      "value": "Downloading: 100%"
     }
    },
    "f227c8a76e0b4cf8af46e173aef19194": {
     "model_module": "@jupyter-widgets/controls",
     "model_module_version": "1.5.0",
     "model_name": "VBoxModel",
     "state": {
      "_dom_classes": [
       "widget-interact"
      ],
      "_model_module": "@jupyter-widgets/controls",
      "_model_module_version": "1.5.0",
      "_model_name": "VBoxModel",
      "_view_count": null,
      "_view_module": "@jupyter-widgets/controls",
      "_view_module_version": "1.5.0",
      "_view_name": "VBoxView",
      "box_style": "",
      "children": [
       "IPY_MODEL_359b62dd2cbc46a88942dc4827327c3f",
       "IPY_MODEL_80056f72e00b4e11b56fd750d7e8a99d"
      ],
      "layout": "IPY_MODEL_87a32d5069024b80a40e4ab03d377c8a"
     }
    },
    "fa7497dc3f3a4e868ae62b00d2e88cc7": {
     "model_module": "@jupyter-widgets/controls",
     "model_module_version": "1.5.0",
     "model_name": "FloatProgressModel",
     "state": {
      "_dom_classes": [],
      "_model_module": "@jupyter-widgets/controls",
      "_model_module_version": "1.5.0",
      "_model_name": "FloatProgressModel",
      "_view_count": null,
      "_view_module": "@jupyter-widgets/controls",
      "_view_module_version": "1.5.0",
      "_view_name": "ProgressView",
      "bar_style": "success",
      "description": "",
      "description_tooltip": null,
      "layout": "IPY_MODEL_1a3375fbfb814950865d819d48971d65",
      "max": 267967963,
      "min": 0,
      "orientation": "horizontal",
      "style": "IPY_MODEL_802524a176f645ce8ad7efe1e0493d07",
      "value": 267967963
     }
    },
    "faa57737821f4734a1e3a566441da047": {
     "model_module": "@jupyter-widgets/controls",
     "model_module_version": "1.5.0",
     "model_name": "DropdownModel",
     "state": {
      "_dom_classes": [],
      "_model_module": "@jupyter-widgets/controls",
      "_model_module_version": "1.5.0",
      "_model_name": "DropdownModel",
      "_options_labels": [
       "natural-language-processing",
       "mlops",
       "computer-vision",
       "other"
      ],
      "_view_count": null,
      "_view_module": "@jupyter-widgets/controls",
      "_view_module_version": "1.5.0",
      "_view_name": "DropdownView",
      "description": "tag",
      "description_tooltip": null,
      "disabled": false,
      "index": 1,
      "layout": "IPY_MODEL_e928b2a49d824d309efb334e964b0979",
      "style": "IPY_MODEL_68cbe30ad0864c3a93054e3585040bef"
     }
    }
   }
  }
 },
 "nbformat": 4,
 "nbformat_minor": 4
}
